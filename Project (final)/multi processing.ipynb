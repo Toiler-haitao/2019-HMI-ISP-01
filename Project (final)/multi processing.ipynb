{
 "cells": [
  {
   "cell_type": "code",
   "execution_count": 1,
   "metadata": {},
   "outputs": [],
   "source": [
    "from multiprocessing import Process, Queue\n",
    "import os, time, random"
   ]
  },
  {
   "cell_type": "code",
   "execution_count": 11,
   "metadata": {},
   "outputs": [],
   "source": [
    "# 写数据进程执行的代码:\n",
    "def write(q):\n",
    "    print('Process to write: %s' % os.getpid())\n",
    "    for value in ['A', 'B', 'C']:\n",
    "        print('Put %s to queue...' % value)\n",
    "        q.put(value)\n",
    "        time.sleep(random.random())\n",
    "\n",
    "# 读数据进程执行的代码:\n",
    "def read(q):\n",
    "    print('Process to read: %s' % os.getpid())\n",
    "    while True:\n",
    "        value = q.get(True)\n",
    "        print('Get %s from queue.' % value)"
   ]
  },
  {
   "cell_type": "code",
   "execution_count": 12,
   "metadata": {},
   "outputs": [],
   "source": [
    "q = Queue()\n",
    "pw = Process(target=write, args=(q,))\n",
    "pr = Process(target=read, args=(q,))\n",
    "# 启动子进程pw，写入:\n",
    "pw.start()\n",
    "# 启动子进程pr，读取:\n",
    "pr.start()\n",
    "# 等待pw结束:\n",
    "pw.join()\n",
    "# pr进程里是死循环，无法等待其结束，只能强行终止:\n",
    "pr.terminate()"
   ]
  },
  {
   "cell_type": "markdown",
   "metadata": {},
   "source": [
    "# 多进程处理"
   ]
  },
  {
   "cell_type": "code",
   "execution_count": 1,
   "metadata": {},
   "outputs": [],
   "source": [
    "from multiprocessing import Process, Queue\n",
    "import sys\n",
    "import json\n",
    "import base64\n",
    "import time\n",
    "import pyaudio\n",
    "import wave\n",
    "\n",
    "IS_PY3 = sys.version_info.major == 3\n",
    "\n",
    "if IS_PY3:\n",
    "    from urllib.request import urlopen\n",
    "    from urllib.request import Request\n",
    "    from urllib.error import URLError\n",
    "    from urllib.parse import urlencode\n",
    "    timer = time.perf_counter\n",
    "else:\n",
    "    from urllib2 import urlopen\n",
    "    from urllib2 import Request\n",
    "    from urllib2 import URLError\n",
    "    from urllib import urlencode\n",
    "    if sys.platform == \"win32\":\n",
    "        timer = time.clock\n",
    "    else:\n",
    "        # On most other platforms the best timer is time.time()\n",
    "        timer = time.time"
   ]
  },
  {
   "cell_type": "code",
   "execution_count": 18,
   "metadata": {},
   "outputs": [],
   "source": [
    "from matplotlib import pyplot as plt\n",
    "from IPython import display"
   ]
  },
  {
   "cell_type": "code",
   "execution_count": 15,
   "metadata": {},
   "outputs": [],
   "source": [
    "API_KEY = 'kVcnfD9iW2XVZSMaLMrtLYIz'\n",
    "SECRET_KEY = 'O9o1O213UgG5LFn0bDGNtoRN3VWl2du6'\n",
    "\n",
    "# 普通版\n",
    "#DEV_PID = 1536\n",
    "#ASR_URL = 'http://vop.baidu.com/server_api'\n",
    "# 极速版\n",
    "DEV_PID = 80001\n",
    "ASR_URL = 'https://vop.baidu.com/pro_api'\n",
    "\n",
    "token = '24.9d7d643527ee67f41ed64f11e5b58444.2592000.1573186085.282335-15803531'\n",
    "\n",
    "CHUNK = 16000\n",
    "RATE = 16000\n",
    "RECORD_SECONDS = 30\n",
    "\n",
    "params = {'dev_pid': DEV_PID,\n",
    "          'format': 'pcm',\n",
    "          'rate': RATE,\n",
    "          'token': token,\n",
    "          'cuid': 'hmi-test',\n",
    "          'channel': 1,\n",
    "          'speech': 'none',\n",
    "          'len': 0\n",
    "          }\n",
    "\n",
    "BACK_NOISE = 1000\n",
    "SPEECH_LEVEL = 20000\n",
    "KWS = ['记住', '记下来', '重点', '重要', '要考', '要提问']"
   ]
  },
  {
   "cell_type": "code",
   "execution_count": 4,
   "metadata": {},
   "outputs": [],
   "source": [
    "Asr_valid = False\n",
    "Asr_trig  = False\n",
    "frames_int_pool = []"
   ]
  },
  {
   "cell_type": "code",
   "execution_count": 5,
   "metadata": {},
   "outputs": [],
   "source": [
    "def raw_to_int(raw_data, lens=0):\n",
    "    speech_data_ints = []\n",
    "    data_sum = 0\n",
    "    if lens==0:\n",
    "        lens = len(raw_data)\n",
    "    for i in range(0, lens, 2):\n",
    "        speech_data_int = int.from_bytes(raw_data[i:i+2], byteorder='little', signed=True)\n",
    "        speech_data_ints.append(speech_data_int)\n",
    "        if abs(speech_data_int) > BACK_NOISE:\n",
    "            data_sum += abs(speech_data_int)\n",
    "    return speech_data_ints, data_sum"
   ]
  },
  {
   "cell_type": "code",
   "execution_count": 47,
   "metadata": {},
   "outputs": [],
   "source": [
    "def recording(speech_datas, valid_q):\n",
    "    global Asr_valid, frames_int_pool\n",
    "    frames = []\n",
    "    frames_int = []\n",
    "    frames_sum = []\n",
    "\n",
    "    p = pyaudio.PyAudio()\n",
    "    stream = p.open(format=pyaudio.paInt16,\n",
    "                    channels=1,\n",
    "                    rate=RATE,\n",
    "                    input=True,\n",
    "                    frames_per_buffer=CHUNK)\n",
    "    print(\"开始录音，请说话......\")\n",
    "\n",
    "    # 先录音4s\n",
    "    for i in range(4):\n",
    "        data = stream.read(CHUNK)\n",
    "        frames.append(data)\n",
    "        data_int, data_sum = raw_to_int(data)\n",
    "        frames_int.append(data_int)\n",
    "        frames_sum.append(data_sum)\n",
    "    print('录音启动完成')\n",
    "\n",
    "    # 1s步长，5s窗口\n",
    "    for i in range(0, RECORD_SECONDS):\n",
    "        #print('\\ni =', i)\n",
    "        data = stream.read(CHUNK)\n",
    "        frames.append(data)\n",
    "        data_int, data_sum = raw_to_int(data)\n",
    "        frames_int.append(data_int)\n",
    "        frames_sum.append(data_sum)\n",
    "        # 窗口内强度＞阈值，则认为有语音\n",
    "        #print(frames_sum)\n",
    "        if sum(frames_sum) > SPEECH_LEVEL:\n",
    "            Asr_valid = True\n",
    "            valid_q.put(True)\n",
    "            #print('speech')\n",
    "        else:\n",
    "            Asr_valid = False\n",
    "            valid_q.put(False)\n",
    "            #print('silence')\n",
    "        # 把窗口内的语音放入队列\n",
    "        speech_datas.put(b''.join(frames))\n",
    "        frames.pop(0)\n",
    "        frames_sum.pop(0)\n",
    "\n",
    "    speech_datas.put('Done')\n",
    "    Asr_valid = False\n",
    "    #print('录音完成，请闭嘴！')\n",
    "    # 获取原始数据，用于调试\n",
    "    #frames_int_pool = [i for item in frames_int for i in item]\n",
    "    \n",
    "    stream.stop_stream()\n",
    "    stream.close()\n",
    "    p.terminate()"
   ]
  },
  {
   "cell_type": "code",
   "execution_count": 54,
   "metadata": {},
   "outputs": [],
   "source": [
    "def speech_process(speech_datas, valid_q):\n",
    "    global Asr_valid, Asr_trig\n",
    "    j = 0\n",
    "    speech_data = 0\n",
    "    while True:\n",
    "        speech_data = speech_datas.get(True)\n",
    "        #display.clear_output(wait=True)\n",
    "        if speech_data == 'Done':\n",
    "            print('\\nOVER......')\n",
    "            Asr_trig = False\n",
    "            break\n",
    "        print('\\nj =', j)\n",
    "        j += 1\n",
    "        if not valid_q.get():\n",
    "            print('Silience')\n",
    "            Asr_trig = False\n",
    "            continue\n",
    "        params['speech'] = str(base64.b64encode(speech_data), 'utf-8')\n",
    "        params['len'] = len(speech_data)\n",
    "        post_data = json.dumps(params, sort_keys=False)\n",
    "        req = Request(ASR_URL, post_data.encode('utf-8'))\n",
    "        req.add_header('Content-Type', 'application/json')\n",
    "\n",
    "        try:\n",
    "            begin = timer()\n",
    "            f = urlopen(req)\n",
    "            result_str = str(f.read(), 'utf-8')\n",
    "            print (\"Request time cost %f\" % (timer() - begin))\n",
    "        except URLError as err:\n",
    "            print('asr http response http code : ' + str(err.code))\n",
    "            result_str = str(err.read(), 'utf-8')\n",
    "        result = json.loads(result_str)\n",
    "\n",
    "        if result['err_no'] == 0:\n",
    "            s = result['result'][0]\n",
    "            print(s)\n",
    "            for i,key in enumerate(KWS):\n",
    "                if key in s:\n",
    "                    Asr_trig = True\n",
    "                    print('trig:', key)\n",
    "                    break\n",
    "                elif i==len(KWS)-1:\n",
    "                    Asr_trig = False\n",
    "        else:\n",
    "            print(result)\n",
    "            Asr_trig = False"
   ]
  },
  {
   "cell_type": "code",
   "execution_count": 49,
   "metadata": {},
   "outputs": [],
   "source": [
    "# 查看波形，用于调试\n",
    "def show():\n",
    "    global frames_int_pool\n",
    "    plt.plot(frames_int_pool)\n",
    "    for i in range(0, RECORD_SECONDS+5):\n",
    "        plt.axvline(x=i*16000, color='#FFD700', linewidth=1)\n",
    "    plt.show()"
   ]
  },
  {
   "cell_type": "code",
   "execution_count": 50,
   "metadata": {},
   "outputs": [],
   "source": [
    "# 多进程\n",
    "def main_mp():\n",
    "    speech_datas = Queue()\n",
    "    valid_q = Queue()\n",
    "    pw = Process(target=recording, args=(speech_datas,valid_q))\n",
    "    pr = Process(target=speech_process, args=(speech_datas,valid_q))\n",
    "    # 启动子进程pw，写入:\n",
    "    pw.start()\n",
    "    # 启动子进程pr，读取:\n",
    "    pr.start()\n",
    "    # 等待pw结束，pr会自动结束:\n",
    "    pw.join()"
   ]
  },
  {
   "cell_type": "code",
   "execution_count": null,
   "metadata": {},
   "outputs": [],
   "source": [
    "main_mp()"
   ]
  },
  {
   "cell_type": "code",
   "execution_count": null,
   "metadata": {},
   "outputs": [],
   "source": []
  },
  {
   "cell_type": "code",
   "execution_count": 11,
   "metadata": {},
   "outputs": [
    {
     "name": "stdout",
     "output_type": "stream",
     "text": [
      "开始录音，请说话......\n",
      "录音启动完成\n",
      "i = 0\n",
      "[890698, 0, 0, 0, 0]\n",
      "speech\n",
      "i = 1\n",
      "[0, 0, 0, 0, 0]\n",
      "silence\n",
      "i = 2\n",
      "[0, 0, 0, 0, 624653]\n",
      "speech\n",
      "i = 3\n",
      "[0, 0, 0, 624653, 553224]\n",
      "speech\n",
      "i = 4\n",
      "[0, 0, 624653, 553224, 18346]\n",
      "speech\n",
      "录音完成，请闭嘴！\n",
      "len = 9.0\n",
      "i = 0\n",
      "Request time cost 0.667997\n",
      "{'err_msg': 'speech quality error.', 'err_no': 3301, 'sn': '730715383671572795236'}\n",
      "i = 1\n",
      "Silience\n",
      "i = 2\n",
      "Request time cost 0.641500\n",
      "电子系统。\n",
      "i = 3\n",
      "Request time cost 0.641821\n",
      "电子系统设计这门课。\n",
      "i = 4\n",
      "Request time cost 0.734279\n",
      "电子系统设计这门课很重要。\n",
      "trig: 重要\n",
      "OVER......\n"
     ]
    }
   ],
   "source": [
    "# 单进程\n",
    "speech_datas = Queue()\n",
    "valid_q = Queue()\n",
    "recording(speech_datas, valid_q)\n",
    "speech_process(speech_datas, valid_q)"
   ]
  },
  {
   "cell_type": "code",
   "execution_count": 44,
   "metadata": {},
   "outputs": [],
   "source": [
    "s = '这段话很重'"
   ]
  },
  {
   "cell_type": "code",
   "execution_count": 45,
   "metadata": {},
   "outputs": [
    {
     "name": "stdout",
     "output_type": "stream",
     "text": [
      "0\n",
      "1\n",
      "2\n",
      "3\n",
      "4\n",
      "5\n"
     ]
    }
   ],
   "source": [
    "for i,key in enumerate(KWS):\n",
    "    print(i)\n",
    "    if key in s:\n",
    "        Asr_trig = True\n",
    "        print('trig:', key)\n",
    "        break\n",
    "    elif i==len(KWS)-1:\n",
    "        Asr_trig = False"
   ]
  },
  {
   "cell_type": "code",
   "execution_count": 46,
   "metadata": {},
   "outputs": [
    {
     "data": {
      "text/plain": [
       "False"
      ]
     },
     "execution_count": 46,
     "metadata": {},
     "output_type": "execute_result"
    }
   ],
   "source": [
    "Asr_trig"
   ]
  },
  {
   "cell_type": "code",
   "execution_count": null,
   "metadata": {},
   "outputs": [],
   "source": []
  },
  {
   "cell_type": "code",
   "execution_count": null,
   "metadata": {},
   "outputs": [],
   "source": []
  }
 ],
 "metadata": {
  "kernelspec": {
   "display_name": "Python 3",
   "language": "python",
   "name": "python3"
  },
  "language_info": {
   "codemirror_mode": {
    "name": "ipython",
    "version": 3
   },
   "file_extension": ".py",
   "mimetype": "text/x-python",
   "name": "python",
   "nbconvert_exporter": "python",
   "pygments_lexer": "ipython3",
   "version": "3.6.9"
  }
 },
 "nbformat": 4,
 "nbformat_minor": 4
}
